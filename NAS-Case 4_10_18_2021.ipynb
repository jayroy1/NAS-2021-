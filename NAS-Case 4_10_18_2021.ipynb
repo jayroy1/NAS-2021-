{
 "cells": [
  {
   "cell_type": "markdown",
   "metadata": {},
   "source": [
    "# Nashville Analytics Summit 2021\n",
    "\n",
    "# Pathway to Predicting expensive providers for the BHHS using Python"
   ]
  },
  {
   "cell_type": "markdown",
   "metadata": {},
   "source": [
    "# Defining the purpose:"
   ]
  },
  {
   "cell_type": "code",
   "execution_count": null,
   "metadata": {},
   "outputs": [],
   "source": [
    "# Import key modules/packages\n",
    "\n",
    "import numpy as np\n",
    "import pandas as pd\n",
    "import scipy.stats as stats\n",
    "import matplotlib.pyplot as plt\n",
    "%matplotlib inline\n",
    "import seaborn as sns\n",
    "import pickle\n",
    "import re ## Used for regular expressions"
   ]
  },
  {
   "cell_type": "code",
   "execution_count": null,
   "metadata": {},
   "outputs": [],
   "source": [
    "# Modeling Imports\n",
    "import statsmodels.api as sm\n",
    "import statsmodels.formula.api as smf\n",
    "import patsy\n",
    "\n",
    "from sklearn.linear_model import LinearRegression, Ridge, Lasso, RidgeCV, LassoCV, ElasticNet\n",
    "from sklearn.metrics import r2_score, mean_squared_error\n",
    "from sklearn.model_selection import train_test_split\n",
    "from sklearn.preprocessing import StandardScaler"
   ]
  },
  {
   "cell_type": "markdown",
   "metadata": {},
   "source": [
    "# Data Acquisiton:"
   ]
  },
  {
   "cell_type": "code",
   "execution_count": null,
   "metadata": {},
   "outputs": [],
   "source": [
    "# Go to website to acquire data Center for Medicare and Medicaid Services\n",
    "# \n",
    "df = pd.read_csv(r'C:\\Users\\JayRoy\\Desktop\\NAS 21\\Data Sets\\newdata2.csv', sep='|')\n",
    "\n",
    "## Since this is Medicare data, some physicians do not participate i.e. accept Medicare payments, because it less than\n",
    "## what they can be reimbursed for on a commercial claim"
   ]
  },
  {
   "cell_type": "markdown",
   "metadata": {},
   "source": [
    "# Data Exploration, Profiling and Cleansing:"
   ]
  },
  {
   "cell_type": "code",
   "execution_count": null,
   "metadata": {},
   "outputs": [],
   "source": [
    "df.head(10)"
   ]
  },
  {
   "cell_type": "code",
   "execution_count": null,
   "metadata": {},
   "outputs": [],
   "source": [
    "df.shape"
   ]
  },
  {
   "cell_type": "code",
   "execution_count": null,
   "metadata": {},
   "outputs": [],
   "source": [
    "df.head(10) "
   ]
  },
  {
   "cell_type": "code",
   "execution_count": null,
   "metadata": {},
   "outputs": [],
   "source": [
    "## Let's do some initial data profiling and look at the specific names of the variables in our dataset\n",
    "list(df)\n",
    "## What types of data do we have in this dataset ?\n",
    "## What would be helpful to understand the dataset ? A: Data Dictionary\n",
    "## Many of our fields are appended with \"Rndrng_\" or example 'Rndrng_Prvdr_First_Name' - What is the meaning of \"Rndrng_\" ?\n",
    "## Few fields are appended with \"Tot_\" .... - What is the meaning of \"Tot_\" ?\n",
    "## https://www.ncbi.nlm.nih.gov/pmc/articles/PMC4120293/#:~:text=The%20log%20transformation%20is%2C%20arguably,normal%20or%20near%20normal%20distribution.\n"
   ]
  },
  {
   "cell_type": "code",
   "execution_count": null,
   "metadata": {},
   "outputs": [],
   "source": [
    "df.iloc[1:2, 18:25]\n",
    "## We will be interested in Tot_Srvcs,Tot_Mdcr_Pymt_Amt\n",
    "## Interesting to see how much the difference between Submitted, Allowed and Paid amounts.\n",
    "\n",
    "## Drug charges - Medicare Part D\n",
    "df.iloc[0:1, 25:33]\n"
   ]
  },
  {
   "cell_type": "code",
   "execution_count": null,
   "metadata": {},
   "outputs": [],
   "source": [
    "## What's the quality of the data ? - Remember G.I.G.O. OR R.I.R.O. ? \n",
    "## Missing data \n",
    "## Remove incomplete rows - Use case - enrollment data does not have right SSN in the dataset)\n",
    "## Change Casing\n",
    "## lots of NaN"
   ]
  },
  {
   "cell_type": "code",
   "execution_count": null,
   "metadata": {},
   "outputs": [],
   "source": [
    "## Check to see if there are any providers in NOT paraticipating or empty values ?\n",
    "## If so, remove NaN from Rndrng_Prvdr_Ent_Cd column\n",
    "df[df.Rndrng_Prvdr_Mdcr_Prtcptg_Ind.isnull() == True]\n"
   ]
  },
  {
   "cell_type": "code",
   "execution_count": null,
   "metadata": {},
   "outputs": [],
   "source": [
    "##df.drop(index=1053958, inplace=True)\n",
    "df.drop(index=1028534, inplace=True)"
   ]
  },
  {
   "cell_type": "code",
   "execution_count": null,
   "metadata": {},
   "outputs": [],
   "source": [
    "df[df.Rndrng_Prvdr_Mdcr_Prtcptg_Ind.isnull() == True]"
   ]
  },
  {
   "cell_type": "code",
   "execution_count": null,
   "metadata": {},
   "outputs": [],
   "source": [
    "## Now that we know that the providers are participating in Medicare, let's look at the types of providers in our dataset.\n",
    "## The variable is Rndrng_Prvdr_Type"
   ]
  },
  {
   "cell_type": "code",
   "execution_count": null,
   "metadata": {},
   "outputs": [],
   "source": [
    "df.loc[:,\"Rndrng_Prvdr_Type\"] ## Using python slicing, we are only wanting to peek at one column so we can slice one column"
   ]
  },
  {
   "cell_type": "code",
   "execution_count": null,
   "metadata": {},
   "outputs": [],
   "source": [
    "## Since Million plus records, we want to know how unique types of physicians are in our dataset \n",
    "print(pd.unique(df['Rndrng_Prvdr_Type']))"
   ]
  },
  {
   "cell_type": "code",
   "execution_count": null,
   "metadata": {},
   "outputs": [],
   "source": [
    "n = len(pd.unique(df['Rndrng_Prvdr_Type']))"
   ]
  },
  {
   "cell_type": "code",
   "execution_count": null,
   "metadata": {},
   "outputs": [],
   "source": [
    "print(\"No.of.unique specialty types :\", n)"
   ]
  },
  {
   "cell_type": "code",
   "execution_count": null,
   "metadata": {},
   "outputs": [],
   "source": [
    "## Alternatively you can use the code below.\n",
    "df['Rndrng_Prvdr_Type'].nunique()"
   ]
  },
  {
   "cell_type": "code",
   "execution_count": null,
   "metadata": {},
   "outputs": [],
   "source": [
    "## In our dataset, how many physicians are Endocrinology?\n",
    "num_of_endo_docs =df[\"Rndrng_Prvdr_Type\"].str.count(\"Endocrinology\", re.I)"
   ]
  },
  {
   "cell_type": "code",
   "execution_count": null,
   "metadata": {},
   "outputs": [],
   "source": [
    "num_of_endo_docs.value_counts()"
   ]
  },
  {
   "cell_type": "code",
   "execution_count": null,
   "metadata": {},
   "outputs": [],
   "source": [
    "## In our dataset, how many physicians are Internal Medicine?\n",
    "\n",
    "num_of_im_docs =df[\"Rndrng_Prvdr_Type\"].str.count(\"Internal Medicine\", re.I)"
   ]
  },
  {
   "cell_type": "code",
   "execution_count": null,
   "metadata": {},
   "outputs": [],
   "source": [
    "## There are Internal Medicine physicians\n",
    "num_of_im_docs.value_counts() \n"
   ]
  },
  {
   "cell_type": "code",
   "execution_count": null,
   "metadata": {},
   "outputs": [],
   "source": [
    "## Lets look at the how many physicians from highest to lowest.\n",
    "df['Rndrng_Prvdr_Type'].value_counts()"
   ]
  },
  {
   "cell_type": "code",
   "execution_count": null,
   "metadata": {},
   "outputs": [],
   "source": [
    "df['Rndrng_Prvdr_Type'].value_counts().hist()"
   ]
  },
  {
   "cell_type": "code",
   "execution_count": null,
   "metadata": {},
   "outputs": [],
   "source": [
    "## Create a dataset of providers\n",
    "##df_pt = pd.DataFrame(columns = df['Rndrng_Prvdr_Type'])\n",
    "df_pt = df['Rndrng_Prvdr_Type']\n",
    "\n",
    "\n",
    "##pd.Series(df_pt).value_counts().plot('bar')\n",
    "\n",
    "df_pt"
   ]
  },
  {
   "cell_type": "code",
   "execution_count": null,
   "metadata": {},
   "outputs": [],
   "source": [
    "## Create a dataset of providers\n",
    "\n",
    "from collections import Counter\n",
    "import pandas"
   ]
  },
  {
   "cell_type": "code",
   "execution_count": null,
   "metadata": {},
   "outputs": [],
   "source": [
    "df_pt = df['Rndrng_Prvdr_Type']"
   ]
  },
  {
   "cell_type": "code",
   "execution_count": null,
   "metadata": {},
   "outputs": [],
   "source": [
    "provider_counts = Counter(df_pt)"
   ]
  },
  {
   "cell_type": "code",
   "execution_count": null,
   "metadata": {},
   "outputs": [],
   "source": [
    "# Creating a histogram shows use there are a few types of physicians that may give us indication of how certain physicians may be more costly?\n",
    "\n",
    "df_hist = pandas.DataFrame.from_dict(provider_counts, orient='index')\n",
    "df_hist.plot(kind='bar')"
   ]
  },
  {
   "cell_type": "code",
   "execution_count": null,
   "metadata": {},
   "outputs": [],
   "source": [
    "df.loc[:,['Rndrng_Prvdr_Type','Tot_Srvcs','Tot_Mdcr_Pymt_Amt']]"
   ]
  },
  {
   "cell_type": "code",
   "execution_count": null,
   "metadata": {},
   "outputs": [],
   "source": [
    "Creating heatmap to look for multicolinearity and correlations \n",
    "# between target(TOTAL_MEDICARE_PAYMENT_AMT) and all predictor variables"
   ]
  },
  {
   "cell_type": "code",
   "execution_count": null,
   "metadata": {},
   "outputs": [],
   "source": [
    "df[df.Rndrng_Prvdr_Gndr.isnull() == True].index"
   ]
  },
  {
   "cell_type": "code",
   "execution_count": null,
   "metadata": {},
   "outputs": [],
   "source": [
    "# Need additional feature engineering for dropping medical organizations(don't have a gender) and only selecting individuals\n",
    "indiv  = df.drop(index=(df[df.Rndrng_Prvdr_Gndr.isnull() == True].index))"
   ]
  },
  {
   "cell_type": "code",
   "execution_count": null,
   "metadata": {},
   "outputs": [],
   "source": [
    "indiv.shape\n",
    "#indiv.Rndrng_Prvdr_Cntry != 'US'\n",
    "#indiv.Rndrng_Prvdr_Cntry == 'US'# 986276"
   ]
  },
  {
   "cell_type": "code",
   "execution_count": null,
   "metadata": {},
   "outputs": [],
   "source": [
    "indiv.Rndrng_Prvdr_Gndr"
   ]
  },
  {
   "cell_type": "code",
   "execution_count": null,
   "metadata": {},
   "outputs": [],
   "source": [
    "indiv.Rndrng_Prvdr_Mdcr_Prtcptg_Ind"
   ]
  },
  {
   "cell_type": "code",
   "execution_count": null,
   "metadata": {},
   "outputs": [],
   "source": [
    "# A big part of feature engingeering is being able to determine relevant fields\n",
    "## In this case we need to remove doctors who dont participate in Medicare. \n",
    "indiv = indiv[indiv.Rndrng_Prvdr_Mdcr_Prtcptg_Ind != 'N']"
   ]
  },
  {
   "cell_type": "code",
   "execution_count": null,
   "metadata": {},
   "outputs": [],
   "source": [
    "indiv.Rndrng_Prvdr_Mdcr_Prtcptg_Ind.value_counts()"
   ]
  },
  {
   "cell_type": "code",
   "execution_count": null,
   "metadata": {},
   "outputs": [],
   "source": [
    "nan_fill_list = [\n",
    "'Bene_Avg_Age',\n",
    "'Bene_Age_75_84_Cnt',\n",
    "'Bene_Age_GT_84_Cnt',\n",
    "'Bene_Feml_Cnt',\n",
    "'Bene_Male_Cnt',\n",
    "'Bene_Race_Wht_Cnt',\n",
    "'Bene_Race_Black_Cnt',\n",
    "'Bene_Race_API_Cnt',\n",
    "'Bene_Race_Hspnc_Cnt',\n",
    "'Bene_Race_NatInd_Cnt',\n",
    "'Bene_Race_Othr_Cnt',\n",
    "'Bene_Dual_Cnt',\n",
    "'Bene_Ndual_Cnt',\n",
    "'Bene_CC_AF_Pct',\n",
    "'Bene_CC_Alzhmr_Pct',\n",
    "'Bene_CC_Asthma_Pct',\n",
    "'Bene_CC_Cncr_Pct',\n",
    "'Bene_CC_CHF_Pct',\n",
    "'Bene_CC_CKD_Pct',\n",
    "'Bene_CC_COPD_Pct',\n",
    "'Bene_CC_Dprssn_Pct',\n",
    "'Bene_CC_Dbts_Pct',\n",
    "'Bene_CC_Hyplpdma_Pct',\n",
    "'Bene_CC_Hyprtnsn_Pct',\n",
    "'Bene_CC_IHD_Pct',\n",
    "'Bene_CC_Opo_Pct',\n",
    "'Bene_CC_RAOA_Pct',\n",
    "'Bene_CC_Sz_Pct',\n",
    "'Bene_CC_Strok_Pct',\n",
    "##'Bene_Avg_Risk_Scre',\n",
    "'Bene_Avg_Risk_Scre,,,,,,,,'    \n",
    "]\n",
    "    "
   ]
  },
  {
   "cell_type": "code",
   "execution_count": null,
   "metadata": {},
   "outputs": [],
   "source": [
    "print(nan_fill_list)"
   ]
  },
  {
   "cell_type": "code",
   "execution_count": null,
   "metadata": {},
   "outputs": [],
   "source": [
    "# replacing nulls in numerical columns with zeroes\n",
    "indiv.loc[:,nan_fill_list] = indiv.loc[:,nan_fill_list].fillna(0)"
   ]
  },
  {
   "cell_type": "code",
   "execution_count": null,
   "metadata": {},
   "outputs": [],
   "source": [
    "indiv.shape"
   ]
  },
  {
   "cell_type": "code",
   "execution_count": null,
   "metadata": {},
   "outputs": [],
   "source": [
    "# removing unnecessary columns for next stage of analysis\n",
    "clean_indiv = indiv.drop(columns=[\n",
    "'Rndrng_NPI',\n",
    "'Rndrng_Prvdr_Last_Org_Name',\n",
    "'Rndrng_Prvdr_First_Name',\n",
    "'Rndrng_Prvdr_MI',\n",
    "'Rndrng_Prvdr_Crdntls',\n",
    "'Rndrng_Prvdr_Ent_Cd',\n",
    "'Rndrng_Prvdr_St1',\n",
    "'Rndrng_Prvdr_St2',\n",
    "'Rndrng_Prvdr_City',\n",
    "##'Rndrng_Prvdr_State_Abrvtn',\n",
    "'Rndrng_Prvdr_State_FIPS',\n",
    "'Rndrng_Prvdr_Zip5',\n",
    "'Rndrng_Prvdr_RUCA',\n",
    "'Rndrng_Prvdr_RUCA_Desc',\n",
    "'Rndrng_Prvdr_Cntry',\n",
    "'Rndrng_Prvdr_Mdcr_Prtcptg_Ind'                                  \n",
    "])"
   ]
  },
  {
   "cell_type": "code",
   "execution_count": null,
   "metadata": {},
   "outputs": [],
   "source": [
    "clean_indiv.shape"
   ]
  },
  {
   "cell_type": "code",
   "execution_count": null,
   "metadata": {},
   "outputs": [],
   "source": [
    "# Remove rows with Medicare values of 0 and keep only those actual payments from CMS\n",
    "clean_indiv = clean_indiv[clean_indiv.Tot_Mdcr_Pymt_Amt != 0]"
   ]
  },
  {
   "cell_type": "code",
   "execution_count": null,
   "metadata": {},
   "outputs": [],
   "source": [
    "clean_indiv.shape"
   ]
  },
  {
   "cell_type": "code",
   "execution_count": null,
   "metadata": {},
   "outputs": [],
   "source": [
    "clean_indiv.head()"
   ]
  },
  {
   "cell_type": "code",
   "execution_count": null,
   "metadata": {},
   "outputs": [],
   "source": [
    "# Dropping unnecessary or price-based columns\n",
    "clean_df = clean_indiv.drop(columns = [\n",
    "'Bene_Avg_Risk_Scre,,,,,,,,',\n",
    "'Tot_Sbmtd_Chrg',\n",
    "'Med_Tot_HCPCS_Cds',\n",
    "'Med_Tot_Srvcs',\n",
    "'Drug_Tot_HCPCS_Cds',\n",
    "'Drug_Tot_Srvcs',\n",
    "'Drug_Sprsn_Ind',\n",
    "'Med_Sprsn_Ind',\n",
    "'Tot_Mdcr_Alowd_Amt',\n",
    "'Tot_Mdcr_Stdzd_Amt',\n",
    "'Drug_Tot_Benes',\n",
    "'Drug_Sbmtd_Chrg',\n",
    "'Drug_Mdcr_Alowd_Amt',\n",
    "'Drug_Mdcr_Pymt_Amt',\n",
    "'Drug_Mdcr_Stdzd_Amt',\n",
    "'Med_Tot_Benes',\n",
    "'Med_Sbmtd_Chrg',\n",
    "'Med_Mdcr_Alowd_Amt',\n",
    "'Med_Mdcr_Pymt_Amt',\n",
    "'Med_Mdcr_Stdzd_Amt',\n",
    "])"
   ]
  },
  {
   "cell_type": "code",
   "execution_count": null,
   "metadata": {},
   "outputs": [],
   "source": [
    "# Shape before removing columns\n",
    "print(clean_indiv.shape)\n",
    "\n",
    "# Shape after removing columns\n",
    "print(clean_df.shape)"
   ]
  },
  {
   "cell_type": "markdown",
   "metadata": {},
   "source": [
    "# Model Building without Feature Engineering"
   ]
  },
  {
   "cell_type": "code",
   "execution_count": null,
   "metadata": {},
   "outputs": [],
   "source": [
    "y=a+ bx\n",
    "\n",
    "x=clean_df.TOTAL_SERVICES, y=clean_df.TOTAL_MEDICARE_PAYMENT_AMT\n",
    "\n",
    "\n"
   ]
  },
  {
   "cell_type": "markdown",
   "metadata": {},
   "source": [
    "# Model Building without Feature Engineering"
   ]
  },
  {
   "cell_type": "code",
   "execution_count": null,
   "metadata": {},
   "outputs": [],
   "source": [
    "plt.figure(figsize=(10,10))\n",
    "sns.heatmap(clean_df.corr(), cmap='Oranges');"
   ]
  },
  {
   "cell_type": "code",
   "execution_count": null,
   "metadata": {},
   "outputs": [],
   "source": [
    "\n",
    "clean_df.corr()"
   ]
  },
  {
   "cell_type": "code",
   "execution_count": null,
   "metadata": {},
   "outputs": [],
   "source": [
    "### Insight: To perform feature engineering well, you must understand your data but also the complex industry business rules\n",
    "## and there are an excessive amount of feature engineering required and deal with some quirkiness prior to doing any modeling.\n"
   ]
  }
 ],
 "metadata": {
  "kernelspec": {
   "display_name": "Python 3",
   "language": "python",
   "name": "python3"
  },
  "language_info": {
   "codemirror_mode": {
    "name": "ipython",
    "version": 3
   },
   "file_extension": ".py",
   "mimetype": "text/x-python",
   "name": "python",
   "nbconvert_exporter": "python",
   "pygments_lexer": "ipython3",
   "version": "3.7.4"
  }
 },
 "nbformat": 4,
 "nbformat_minor": 2
}
